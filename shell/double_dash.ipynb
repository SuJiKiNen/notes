{
 "cells": [
  {
   "cell_type": "code",
   "execution_count": 5,
   "metadata": {},
   "outputs": [],
   "source": [
    "import sys\n",
    "ipython = get_ipython()\n",
    "\n",
    "def hide_traceback(exc_tuple=None, filename=None, tb_offset=None,\n",
    "                   exception_only=False, running_compiled_code=False):\n",
    "    etype, value, tb = sys.exc_info()\n",
    "    return ipython._showtraceback(etype, value, ipython.InteractiveTB.get_exception_only(etype, value))\n",
    "\n",
    "ipython.showtraceback = hide_traceback"
   ]
  },
  {
   "cell_type": "markdown",
   "metadata": {},
   "source": [
    "[The -- tells cat not to try to parse what comes after it as command line options.](https://serverfault.com/questions/114897/what-does-double-dash-mean-in-this-shell-command)\n",
    "\n",
    "Mostly worked on Bash build-in commands.\n",
    "\n",
    "This behavior (while very common) is defined by the receiving program (i.e. cat) and not by the shell.\n",
    "\n",
    "[Each parameter after a '--' parameter is always interpreted as a non-option parameter.](https://linux.die.net/man/1/getopt)"
   ]
  },
  {
   "cell_type": "code",
   "execution_count": 6,
   "metadata": {},
   "outputs": [
    {
     "name": "stdout",
     "output_type": "stream",
     "text": [
      "cat (GNU coreutils) 8.25\n",
      "Copyright (C) 2016 Free Software Foundation, Inc.\n",
      "License GPLv3+: GNU GPL version 3 or later <http://gnu.org/licenses/gpl.html>.\n",
      "This is free software: you are free to change and redistribute it.\n",
      "There is NO WARRANTY, to the extent permitted by law.\n",
      "\n",
      "Written by Torbjörn Granlund and Richard M. Stallman.\n"
     ]
    },
    {
     "name": "stderr",
     "output_type": "stream",
     "text": [
      "cat: unrecognized option '----version'\n",
      "Try 'cat --help' for more information.\n"
     ]
    },
    {
     "ename": "CalledProcessError",
     "evalue": "Command 'b'PIDFILE=\"--version\"\\ncat $PIDFILE\\ncat --$PIDFILE\\n'' returned non-zero exit status 1.",
     "output_type": "error",
     "traceback": [
      "\u001b[0;31mCalledProcessError\u001b[0m\u001b[0;31m:\u001b[0m Command 'b'PIDFILE=\"--version\"\\ncat $PIDFILE\\ncat --$PIDFILE\\n'' returned non-zero exit status 1.\n"
     ]
    }
   ],
   "source": [
    "%%bash\n",
    "PIDFILE=\"--version\"\n",
    "cat $PIDFILE\n",
    "cat --$PIDFILE"
   ]
  }
 ],
 "metadata": {
  "kernelspec": {
   "display_name": "Python 3",
   "language": "python",
   "name": "python3"
  },
  "language_info": {
   "codemirror_mode": {
    "name": "ipython",
    "version": 3
   },
   "file_extension": ".py",
   "mimetype": "text/x-python",
   "name": "python",
   "nbconvert_exporter": "python",
   "pygments_lexer": "ipython3",
   "version": "3.6.6"
  }
 },
 "nbformat": 4,
 "nbformat_minor": 2
}
