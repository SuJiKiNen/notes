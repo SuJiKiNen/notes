{
 "cells": [
  {
   "cell_type": "markdown",
   "metadata": {},
   "source": [
    "## datetime.now is faster than datetime.today ##"
   ]
  },
  {
   "cell_type": "code",
   "execution_count": 8,
   "metadata": {},
   "outputs": [],
   "source": [
    "import datetime"
   ]
  },
  {
   "cell_type": "code",
   "execution_count": 9,
   "metadata": {},
   "outputs": [
    {
     "name": "stdout",
     "output_type": "stream",
     "text": [
      "557 ns ± 20.9 ns per loop (mean ± std. dev. of 7 runs, 1000000 loops each)\n"
     ]
    }
   ],
   "source": [
    "%timeit datetime.datetime.now()"
   ]
  },
  {
   "cell_type": "code",
   "execution_count": 10,
   "metadata": {},
   "outputs": [
    {
     "name": "stdout",
     "output_type": "stream",
     "text": [
      "1.36 µs ± 147 ns per loop (mean ± std. dev. of 7 runs, 1000000 loops each)\n"
     ]
    }
   ],
   "source": [
    "%timeit datetime.datetime.today()"
   ]
  },
  {
   "cell_type": "code",
   "execution_count": 11,
   "metadata": {},
   "outputs": [
    {
     "data": {
      "text/plain": [
       "(datetime.datetime(2018, 12, 13, 10, 59, 27, 493338),\n",
       " datetime.datetime(2018, 12, 13, 10, 59, 27, 493347))"
      ]
     },
     "execution_count": 11,
     "metadata": {},
     "output_type": "execute_result"
    }
   ],
   "source": [
    "datetime.datetime.now(),datetime.datetime.today()"
   ]
  },
  {
   "cell_type": "markdown",
   "metadata": {},
   "source": [
    "[datetime.now](https://github.com/python/cpython/blob/f27f0d2be4887f1a2c276d05246ab005964031d4/Lib/datetime.py#L1642)\n",
    "[datetime.today](https://github.com/python/cpython/blob/f27f0d2be4887f1a2c276d05246ab005964031d4/Lib/datetime.py#L845)\n",
    "\n",
    "```python\n",
    "@classmethod\n",
    "def now(cls, tz=None):\n",
    "    \"Construct a datetime from time.time() and optional time zone info.\"\n",
    "     t = _time.time()\n",
    "     return cls.fromtimestamp(t, tz)\n",
    "```\n",
    "\n",
    "\n",
    "```python\n",
    "@classmethod\n",
    "def today(cls):\n",
    "    \"Construct a date from time.time().\"\n",
    "    t = _time.time()\n",
    "    return cls.fromtimestamp(t)\n",
    "```\n",
    "\n",
    "They all called with [fromtimestamp](https://github.com/python/cpython/blob/f27f0d2be4887f1a2c276d05246ab005964031d4/Lib/datetime.py#L839)\n",
    "\n",
    "\n",
    "```python\n",
    "@classmethod\n",
    "def fromtimestamp(cls, t):\n",
    "    \"Construct a date from a POSIX timestamp (like time.time()).\"\n",
    "    y, m, d, hh, mm, ss, weekday, jday, dst = _time.localtime(t)\n",
    "    return cls(y, m, d)\n",
    "```\n",
    "\n",
    "[C source code]()"
   ]
  },
  {
   "cell_type": "code",
   "execution_count": null,
   "metadata": {},
   "outputs": [],
   "source": []
  }
 ],
 "metadata": {
  "kernelspec": {
   "display_name": "Python 3",
   "language": "python",
   "name": "python3"
  },
  "language_info": {
   "codemirror_mode": {
    "name": "ipython",
    "version": 3
   },
   "file_extension": ".py",
   "mimetype": "text/x-python",
   "name": "python",
   "nbconvert_exporter": "python",
   "pygments_lexer": "ipython3",
   "version": "3.6.6"
  }
 },
 "nbformat": 4,
 "nbformat_minor": 2
}
